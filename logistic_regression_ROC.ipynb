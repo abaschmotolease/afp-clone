{
 "cells": [
  {
   "cell_type": "code",
   "execution_count": 1,
   "metadata": {
    "collapsed": true
   },
   "outputs": [],
   "source": [
    "# summary of the result from logistic regression\n",
    "# read data\n",
    "import pandas as pd\n",
    "import numpy as np\n",
    "import matplotlib.pyplot as plt\n",
    "from sklearn import linear_model, datasets\n",
    "from sklearn.linear_model import LogisticRegression, LogisticRegressionCV\n",
    "from sklearn.metrics import roc_auc_score\n",
    "from sklearn import preprocessing\n"
   ]
  },
  {
   "cell_type": "code",
   "execution_count": 2,
   "metadata": {
    "collapsed": false,
    "scrolled": true
   },
   "outputs": [
    {
     "name": "stderr",
     "output_type": "stream",
     "text": [
      "C:\\Anaconda3\\lib\\site-packages\\sklearn\\linear_model\\sag.py:286: ConvergenceWarning: The max_iter was reached which means the coef_ did not converge\n",
      "  \"the coef_ did not converge\", ConvergenceWarning)\n"
     ]
    },
    {
     "name": "stdout",
     "output_type": "stream",
     "text": [
      "The accuracy is  0.763928234183\n",
      "The AUC is  0.715172971256\n"
     ]
    }
   ],
   "source": [
    "train_data = pd.read_csv(\"training_data.csv\")\n",
    "X = train_data.iloc[:, :-1]\n",
    "Y = train_data.iloc[:, -1]\n",
    "# normalize data before regression\n",
    "X = preprocessing.scale(X)\n",
    "c = [0.0001, 0.01, 1, 100]\n",
    "logreg = LogisticRegressionCV(penalty='l2', solver='sag', Cs=c, refit=True, cv=10, max_iter=100)\n",
    "logreg.fit(X, Y)\n",
    "logreg.score(X, Y)\n",
    "y_scores = logreg.predict(X)\n",
    "y_true = Y\n",
    "print('The accuracy is ', logreg.score(X, Y))\n",
    "print('The AUC is ', roc_auc_score(y_true, y_scores))"
   ]
  },
  {
   "cell_type": "code",
   "execution_count": 3,
   "metadata": {
    "collapsed": false
   },
   "outputs": [
    {
     "name": "stdout",
     "output_type": "stream",
     "text": [
      "The accuracy is  0.768964431854\n",
      "The AUC is  0.730423043281\n"
     ]
    }
   ],
   "source": [
    "# try using different solver and more iteration\n",
    "train_data = pd.read_csv(\"training_data.csv\")\n",
    "X = train_data.iloc[:, :-1]\n",
    "Y = train_data.iloc[:, -1]\n",
    "# normalize data before regression\n",
    "X = preprocessing.scale(X)\n",
    "c = [0.0001, 0.001, 0.01, 0.1, 1, 10, 100, 1000]\n",
    "logreg = LogisticRegressionCV(penalty='l2', solver='liblinear', Cs=c, refit=True, cv=10, max_iter=2000)\n",
    "logreg.fit(X, Y)\n",
    "logreg.score(X, Y)\n",
    "y_scores = logreg.predict(X)\n",
    "y_true = Y\n",
    "print('The accuracy is ', logreg.score(X, Y))\n",
    "print('The AUC is ', roc_auc_score(y_true, y_scores))"
   ]
  },
  {
   "cell_type": "code",
   "execution_count": 5,
   "metadata": {
    "collapsed": false
   },
   "outputs": [
    {
     "name": "stdout",
     "output_type": "stream",
     "text": [
      "The accuracy is  0.673274596182\n",
      "The AUC is  0.624804143706\n"
     ]
    }
   ],
   "source": [
    "test_data = pd.read_csv(\"testing_data.csv\")\n",
    "X = test_data.iloc[:, :-1]\n",
    "Y = test_data.iloc[:, -1]\n",
    "# normalize data before regression\n",
    "X = preprocessing.scale(X)\n",
    "y_scores = logreg.predict(X)\n",
    "y_true = Y\n",
    "print('The accuracy is ', logreg.score(X, Y))\n",
    "print('The AUC is ', roc_auc_score(y_true, y_scores))"
   ]
  },
  {
   "cell_type": "code",
   "execution_count": null,
   "metadata": {
    "collapsed": true
   },
   "outputs": [],
   "source": []
  }
 ],
 "metadata": {
  "kernelspec": {
   "display_name": "Python [Root]",
   "language": "python",
   "name": "Python [Root]"
  },
  "language_info": {
   "codemirror_mode": {
    "name": "ipython",
    "version": 3
   },
   "file_extension": ".py",
   "mimetype": "text/x-python",
   "name": "python",
   "nbconvert_exporter": "python",
   "pygments_lexer": "ipython3",
   "version": "3.5.2"
  }
 },
 "nbformat": 4,
 "nbformat_minor": 0
}
