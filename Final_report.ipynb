{
 "cells": [
  {
   "cell_type": "code",
   "execution_count": 3,
   "metadata": {
    "collapsed": true
   },
   "outputs": [],
   "source": [
    "# read libraries\n",
    "import pandas as pd\n",
    "import numpy as np\n",
    "import matplotlib.pyplot as plt\n",
    "from sklearn import linear_model, datasets\n",
    "from sklearn.linear_model import LogisticRegression, LogisticRegressionCV\n",
    "from sklearn import preprocessing\n",
    "from sklearn.metrics import roc_auc_score\n",
    "from scipy import stats\n",
    "# select different feature size and run cross validation\n",
    "from sklearn.feature_selection import SelectKBest\n",
    "from sklearn.feature_selection import f_classif"
   ]
  },
  {
   "cell_type": "code",
   "execution_count": 4,
   "metadata": {
    "collapsed": false
   },
   "outputs": [
    {
     "name": "stderr",
     "output_type": "stream",
     "text": [
      "C:\\Anaconda3\\lib\\site-packages\\sklearn\\linear_model\\sag.py:286: ConvergenceWarning: The max_iter was reached which means the coef_ did not converge\n",
      "  \"the coef_ did not converge\", ConvergenceWarning)\n"
     ]
    },
    {
     "name": "stdout",
     "output_type": "stream",
     "text": [
      "The accuracy on training data set is  0.763928234183\n",
      "The AUC is on training data set is 0.715375810925\n"
     ]
    }
   ],
   "source": [
    "# use all feature we have\n",
    "train_data = pd.read_csv(\"training_data.csv\")\n",
    "X = train_data.iloc[:, :-1]\n",
    "Y = train_data.iloc[:, -1]\n",
    "# normalize data before regression\n",
    "X = preprocessing.scale(X)\n",
    "c = [0.0001, 0.01, 1, 100]\n",
    "logreg_all = LogisticRegressionCV(penalty='l2', solver='sag', Cs=c, refit=True, cv=10, max_iter=100)\n",
    "logreg_all.fit(X, Y)\n",
    "logreg_all.score(X, Y)\n",
    "y_scores = logreg_all.predict(X)\n",
    "y_true = Y\n",
    "print('The accuracy on training data set is ', logreg_all.score(X, Y))\n",
    "print('The AUC is on training data set is', roc_auc_score(y_true, y_scores))"
   ]
  },
  {
   "cell_type": "code",
   "execution_count": 5,
   "metadata": {
    "collapsed": false
   },
   "outputs": [
    {
     "name": "stdout",
     "output_type": "stream",
     "text": [
      "The accuracy on testing dataset is  0.675477239354\n",
      "The AUC on testing dataset is  0.617075197245\n"
     ]
    }
   ],
   "source": [
    "# test on testing dataset\n",
    "test_data = pd.read_csv(\"testing_data.csv\")\n",
    "X = test_data.iloc[:, :-1]\n",
    "Y = test_data.iloc[:, -1]\n",
    "# normalize data before regression\n",
    "X = preprocessing.scale(X)\n",
    "y_scores = logreg_all.predict(X)\n",
    "y_true = Y\n",
    "print('The accuracy on testing dataset is ', logreg_all.score(X, Y))\n",
    "print('The AUC on testing dataset is ', roc_auc_score(y_true, y_scores))"
   ]
  },
  {
   "cell_type": "code",
   "execution_count": 6,
   "metadata": {
    "collapsed": false
   },
   "outputs": [
    {
     "name": "stderr",
     "output_type": "stream",
     "text": [
      "C:\\Anaconda3\\lib\\site-packages\\sklearn\\linear_model\\sag.py:286: ConvergenceWarning: The max_iter was reached which means the coef_ did not converge\n",
      "  \"the coef_ did not converge\", ConvergenceWarning)\n"
     ]
    },
    {
     "name": "stdout",
     "output_type": "stream",
     "text": [
      "The accuracy rate in training set is  0.706011960969\n",
      "The AUC score on training dataset is  0.639797099588\n"
     ]
    }
   ],
   "source": [
    "# select the 40 features by F value\n",
    "train_data = pd.read_csv(\"training_data.csv\")\n",
    "X = train_data.iloc[:, :-1]\n",
    "Y = train_data.iloc[:, -1]\n",
    "X = preprocessing.scale(X)\n",
    "# selece feature based on f_classif\n",
    "X_new = SelectKBest(f_classif, k=40)\n",
    "X_new.fit_transform(X, Y)\n",
    "X = X[:, X_new.get_support()]\n",
    "c = [0.0001, 0.001, 0.01, 0.1, 1, 10, 100, 1000]\n",
    "logreg_40 = LogisticRegressionCV(penalty='l2', solver='sag', Cs=c, refit=True, cv=10, max_iter=1000)\n",
    "logreg_40.fit(X, Y)\n",
    "print(\"The accuracy rate in training set is \", logreg_40.score(X, Y))\n",
    "y_scores = logreg_40.predict(X)\n",
    "y_true = Y\n",
    "print(\"The AUC score on training dataset is \", roc_auc_score(y_true, y_scores))"
   ]
  },
  {
   "cell_type": "code",
   "execution_count": 7,
   "metadata": {
    "collapsed": false
   },
   "outputs": [
    {
     "name": "stdout",
     "output_type": "stream",
     "text": [
      "The accuracy on testing dataset is  0.665198237885\n",
      "The AUC on testing dataset is  0.602746732643\n"
     ]
    }
   ],
   "source": [
    "# test on testing dataset\n",
    "test_data = pd.read_csv(\"testing_data.csv\")\n",
    "X = test_data.iloc[:, :-1]\n",
    "Y = test_data.iloc[:, -1]\n",
    "# normalize data before regression\n",
    "X = preprocessing.scale(X)\n",
    "X = X[:, X_new.get_support()]\n",
    "y_scores = logreg_40.predict(X)\n",
    "y_true = Y\n",
    "print('The accuracy on testing dataset is ', logreg_40.score(X, Y))\n",
    "print('The AUC on testing dataset is ', roc_auc_score(y_true, y_scores))"
   ]
  },
  {
   "cell_type": "code",
   "execution_count": 8,
   "metadata": {
    "collapsed": false
   },
   "outputs": [
    {
     "name": "stderr",
     "output_type": "stream",
     "text": [
      "C:\\Anaconda3\\lib\\site-packages\\sklearn\\linear_model\\sag.py:286: ConvergenceWarning: The max_iter was reached which means the coef_ did not converge\n",
      "  \"the coef_ did not converge\", ConvergenceWarning)\n"
     ]
    },
    {
     "name": "stdout",
     "output_type": "stream",
     "text": [
      "The accuracy rate on training set is  0.674220963173\n",
      "The AUC score on training set is  0.580346419782\n"
     ]
    }
   ],
   "source": [
    "# manually select the feature we think important from 40 features\n",
    "train_data = pd.read_csv(\"training_data.csv\")\n",
    "X = train_data.loc[:, ['at103s', 'bc03s', 'bc36s', 'br03s', 'br36s', 'g051s', 'g215a', 'g215b',\n",
    "                        'g224c', 'g230s', 'g251b', 'g304s', 'g305s', 'g311s', 're03s', 're24s',\n",
    "                        's062s', 's068b', 's071b', 's073b', 'trv01', 'cv13']]\n",
    "Y = train_data.iloc[:, -1]\n",
    "X = preprocessing.scale(X)\n",
    "c = [0.0001, 0.001, 0.01, 0.1, 1, 10, 100, 1000]\n",
    "logreg_manual = LogisticRegressionCV(penalty='l2', solver='sag', Cs=c, refit=True, cv=10, max_iter=1000)\n",
    "logreg_manual.fit(X, Y)\n",
    "print(\"The accuracy rate on training set is \", logreg_manual.score(X, Y))\n",
    "y_scores = logreg_manual.predict(X)\n",
    "y_true = Y\n",
    "print(\"The AUC score on training set is \", roc_auc_score(y_true, y_scores))"
   ]
  },
  {
   "cell_type": "code",
   "execution_count": 9,
   "metadata": {
    "collapsed": false
   },
   "outputs": [
    {
     "name": "stdout",
     "output_type": "stream",
     "text": [
      "The accuracy on testing dataset is  0.638766519824\n",
      "The AUC on testing dataset is  0.552130754472\n"
     ]
    }
   ],
   "source": [
    "# test on testing dataset\n",
    "test_data = pd.read_csv(\"testing_data.csv\")\n",
    "X = test_data.loc[:, ['at103s', 'bc03s', 'bc36s', 'br03s', 'br36s', 'g051s', 'g215a', 'g215b',\n",
    "                        'g224c', 'g230s', 'g251b', 'g304s', 'g305s', 'g311s', 're03s', 're24s',\n",
    "                        's062s', 's068b', 's071b', 's073b', 'trv01', 'cv13']]\n",
    "Y = test_data.iloc[:, -1]\n",
    "# normalize data before regression\n",
    "X = preprocessing.scale(X)\n",
    "y_scores = logreg_manual.predict(X)\n",
    "y_true = Y\n",
    "print('The accuracy on testing dataset is ', logreg_manual.score(X, Y))\n",
    "print('The AUC on testing dataset is ', roc_auc_score(y_true, y_scores))"
   ]
  },
  {
   "cell_type": "code",
   "execution_count": 10,
   "metadata": {
    "collapsed": false
   },
   "outputs": [
    {
     "name": "stdout",
     "output_type": "stream",
     "text": [
      "The accuracy on all dataset is  0.790923110817\n",
      "The AUC is on all dataset is 0.757044419471\n"
     ]
    }
   ],
   "source": [
    "# using all data we have\n",
    "# use all feature we have\n",
    "train_data = pd.read_csv(\"training_data.csv\")\n",
    "test_data = pd.read_csv(\"testing_data.csv\")\n",
    "combined_data = train_data.append(test_data)\n",
    "X = combined_data.iloc[:, :-1]\n",
    "Y = combined_data.iloc[:, -1]\n",
    "# normalize data before regression\n",
    "X = preprocessing.scale(X)\n",
    "logreg_all = LogisticRegression(penalty='l2')\n",
    "logreg_all.fit(X, Y)\n",
    "logreg_all.score(X, Y)\n",
    "y_scores = logreg_all.predict(X)\n",
    "y_true = Y\n",
    "print('The accuracy on all dataset is ', logreg_all.score(X, Y))\n",
    "print('The AUC is on all dataset is', roc_auc_score(y_true, y_scores))"
   ]
  },
  {
   "cell_type": "code",
   "execution_count": 11,
   "metadata": {
    "collapsed": false
   },
   "outputs": [
    {
     "data": {
      "image/png": "[encoded data removed]",
      "text/plain": [
       "<matplotlib.figure.Figure at 0xb307978>"
      ]
     },
     "metadata": {},
     "output_type": "display_data"
    }
   ],
   "source": [
    "%matplotlib inline\n",
    "import matplotlib.pyplot as plt\n",
    "import numpy\n",
    "# use the best predictor to transfer from raw pd to score\n",
    "prob_x = logreg_all.predict_proba(X)\n",
    "# linear transfer\n",
    "score_x = 350 + 500 * prob_x[:, 0]\n",
    "plt.hist(score_x, bins=20)\n",
    "plt.xlabel('Score')\n",
    "plt.ylabel('Count')\n",
    "plt.title('Histogram of Score')\n",
    "plt.grid(True)\n",
    "plt.show()"
   ]
  },
  {
   "cell_type": "code",
   "execution_count": 12,
   "metadata": {
    "collapsed": false
   },
   "outputs": [
    {
     "name": "stdout",
     "output_type": "stream",
     "text": [
      "The accuracy on all dataset is  0.790702797973\n",
      "The AUC is on all dataset is 0.756327472137\n"
     ]
    }
   ],
   "source": [
    "# use all data we have to train the model\n",
    "logreg_ucla_score = LogisticRegression(penalty='l2')\n",
    "X = score_x.reshape(-1, 1)\n",
    "logreg_ucla_score.fit(X, Y)\n",
    "y_scores = logreg_ucla_score.predict(X)\n",
    "y_true = Y\n",
    "print('The accuracy on all dataset is ', logreg_ucla_score.score(X, Y))\n",
    "print('The AUC is on all dataset is', roc_auc_score(y_true, y_scores))"
   ]
  },
  {
   "cell_type": "code",
   "execution_count": 17,
   "metadata": {
    "collapsed": false
   },
   "outputs": [],
   "source": [
    "# seperate score into group to plot the pd and score graph\n",
    "train_data = pd.read_csv(\"training_data.csv\")\n",
    "test_data = pd.read_csv(\"testing_data.csv\")\n",
    "combined_data = train_data.append(test_data)\n",
    "combined_data.reset_index(inplace=True)\n",
    "Y = combined_data.iloc[:, -1]\n",
    "score = pd.DataFrame(data=score_x, columns=['score'])\n",
    "table = pd.concat([score, Y], axis=1, join_axes=[score.index])\n",
    "\n",
    "sequece = list(range(350, 850, 25))\n",
    "labels = [ i for i in range(0, 21) ]\n",
    "table.loc[:, 'group'] = pd.cut(table.loc[:, 'score'], range(350, 900, 25), right=False, labels=labels)\n",
    "defaulting = np.zeros((21))\n",
    "nondefaulting = np.zeros((21))\n",
    "for i in range(table.shape[0]):\n",
    "    if table.loc[i, 'default'] == 1:\n",
    "        defaulting[table.loc[i, 'group']] += 1\n",
    "    if table.loc[i, 'default'] == 0:\n",
    "        nondefaulting[table.loc[i, 'group']] += 1"
   ]
  },
  {
   "cell_type": "code",
   "execution_count": 18,
   "metadata": {
    "collapsed": false
   },
   "outputs": [
    {
     "data": {
      "image/png": "[encoded data removed]",
      "text/plain": [
       "<matplotlib.figure.Figure at 0xb3e87f0>"
      ]
     },
     "metadata": {},
     "output_type": "display_data"
    }
   ],
   "source": [
    "# calculating real defaulting rate for different score\n",
    "default_rate = defaulting / (defaulting + nondefaulting)\n",
    "plt.plot(range(350, 875, 25), default_rate)\n",
    "plt.xlabel('Score')\n",
    "plt.ylabel('Defaulting Rate')\n",
    "plt.title('Defaulting Rate on Different Score')\n",
    "plt.grid(True)\n",
    "plt.show()"
   ]
  },
  {
   "cell_type": "code",
   "execution_count": 44,
   "metadata": {
    "collapsed": false
   },
   "outputs": [],
   "source": [
    "# seperate score into group to plot the pd and score graph\n",
    "train_data = pd.read_csv(\"training_data.csv\")\n",
    "test_data = pd.read_csv(\"testing_data.csv\")\n",
    "combined_data = train_data.append(test_data)\n",
    "combined_data.reset_index(inplace=True)\n",
    "Y = combined_data.iloc[:, -1]\n",
    "score = pd.DataFrame(data=score_x, columns=['score'])\n",
    "table = pd.concat([score, Y], axis=1, join_axes=[score.index])\n",
    "\n",
    "sequece = list(range(350, 850, 25))\n",
    "labels = [ i for i in range(0, 21) ]\n",
    "table.loc[:, 'group'] = pd.cut(table.loc[:, 'score'], range(350, 900, 25), right=False, labels=labels)\n",
    "\n",
    "# KS score\n",
    "good_count = np.zeros((21))\n",
    "bad_count = np.zeros((21))\n",
    "for i in range(table.shape[0]):\n",
    "    if table.loc[i, 'default'] == 1:\n",
    "        bad_count[table.loc[i, 'group']] += 1\n",
    "    if table.loc[i, 'default'] == 0:\n",
    "        good_count[table.loc[i, 'group']] += 1\n"
   ]
  },
  {
   "cell_type": "code",
   "execution_count": 61,
   "metadata": {
    "collapsed": false
   },
   "outputs": [
    {
     "name": "stdout",
     "output_type": "stream",
     "text": [
      "KS value is  0.538881612857\n"
     ]
    }
   ],
   "source": [
    "bad_count = bad_count / sum(bad_count)\n",
    "good_count = good_count / sum(good_count)\n",
    "cul_bad = np.cumsum(bad_count)\n",
    "cul_good = np.cumsum(good_count)\n",
    "ks = cul_bad - cul_good\n",
    "print(\"KS value is \", max(ks))"
   ]
  },
  {
   "cell_type": "code",
   "execution_count": 64,
   "metadata": {
    "collapsed": false
   },
   "outputs": [
    {
     "data": {
      "image/png": "[encoded data removed]",
      "text/plain": [
       "<matplotlib.figure.Figure at 0xb939978>"
      ]
     },
     "metadata": {},
     "output_type": "display_data"
    }
   ],
   "source": [
    "# calculate culmalative default rate\n",
    "plt.plot(range(350, 851, 25), cul_bad, label=\"Bad Case\")\n",
    "plt.plot(range(350, 851, 25), cul_good, label=\"Good Case\")\n",
    "plt.legend(bbox_to_anchor=(1.05, 1), loc=2, borderaxespad=0.)\n",
    "plt.xlabel('Score')\n",
    "plt.ylabel('Count in %')\n",
    "plt.grid(True)\n",
    "plt.show()"
   ]
  }
 ],
 "metadata": {
  "anaconda-cloud": {},
  "kernelspec": {
   "display_name": "Python [Root]",
   "language": "python",
   "name": "Python [Root]"
  },
  "language_info": {
   "codemirror_mode": {
    "name": "ipython",
    "version": 3
   },
   "file_extension": ".py",
   "mimetype": "text/x-python",
   "name": "python",
   "nbconvert_exporter": "python",
   "pygments_lexer": "ipython3",
   "version": "3.5.2"
  }
 },
 "nbformat": 4,
 "nbformat_minor": 0
}
