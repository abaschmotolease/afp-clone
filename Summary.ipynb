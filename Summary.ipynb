{
 "cells": [
  {
   "cell_type": "code",
   "execution_count": 9,
   "metadata": {
    "collapsed": true
   },
   "outputs": [],
   "source": [
    "# read clean data with default info\n",
    "import pandas as pd\n",
    "import numpy as np\n",
    "import matplotlib.pyplot as plt\n",
    "from sklearn import linear_model, datasets\n",
    "from sklearn.linear_model import LogisticRegression, LogisticRegressionCV\n",
    "from sklearn import preprocessing\n",
    "from sklearn.metrics import roc_auc_score\n",
    "from scipy import stats"
   ]
  },
  {
   "cell_type": "code",
   "execution_count": 10,
   "metadata": {
    "collapsed": false
   },
   "outputs": [
    {
     "name": "stderr",
     "output_type": "stream",
     "text": [
      "C:\\Anaconda3\\lib\\site-packages\\sklearn\\linear_model\\sag.py:286: ConvergenceWarning: The max_iter was reached which means the coef_ did not converge\n",
      "  \"the coef_ did not converge\", ConvergenceWarning)\n"
     ]
    },
    {
     "name": "stdout",
     "output_type": "stream",
     "text": [
      "The accuracy rate in training set is  0.709789109223\n",
      "The AUC score is  0.646975020566\n"
     ]
    }
   ],
   "source": [
    "# select different feature size and run cross validation\n",
    "from sklearn.feature_selection import SelectKBest\n",
    "from sklearn.feature_selection import f_classif\n",
    "\n",
    "# read data and standardize\n",
    "train_data = pd.read_csv(\"training_data.csv\")\n",
    "X = train_data.iloc[:, :-1]\n",
    "Y = train_data.iloc[:, -1]\n",
    "X = preprocessing.scale(X)\n",
    "# selece feature based on f_classif\n",
    "X_new = SelectKBest(f_classif, k=60)\n",
    "X_new.fit_transform(X, Y)\n",
    "X = X[:, X_new.get_support()]\n",
    "c = [0.0001, 0.001, 0.01, 0.1, 1, 10, 100, 1000]\n",
    "logreg = LogisticRegressionCV(penalty='l2', solver='sag', Cs=c, refit=True, cv=10, max_iter=1000)\n",
    "logreg.fit(X, Y)\n",
    "print(\"The accuracy rate in training set is \", logreg.score(X, Y))\n",
    "y_scores = logreg.predict(X)\n",
    "y_true = Y\n",
    "print(\"The AUC score is \", roc_auc_score(y_true, y_scores))"
   ]
  },
  {
   "cell_type": "code",
   "execution_count": 11,
   "metadata": {
    "collapsed": false
   },
   "outputs": [
    {
     "data": {
      "text/plain": [
       "(array([ 109.49157079,  146.68000577,  369.37561468,  254.44745638,\n",
       "         345.83873919,  199.59009187,   74.3043644 ,  105.64850834,\n",
       "          80.60970427,   72.41462031,   83.81699052,  105.81116356,\n",
       "          75.59027159,   90.28301936,  123.22057339,   99.08761092,\n",
       "          88.8655223 ,  102.15200543,   78.53779851,   98.2663051 ,\n",
       "          74.49573082,   81.08539039,   83.62766025,   96.92837263,\n",
       "          82.18847452,  100.20267306,   76.83265717,   93.43655767,\n",
       "          79.35598036,   73.52548484,   95.9509239 ,   87.94675577,\n",
       "          81.13402524,   78.73750421,   73.21313696,   75.43836608,\n",
       "          75.93168571,   70.960214  ,   97.57446801,  118.3068928 ,\n",
       "         118.57274697,   95.09961534,  103.58759121,   82.56209485,\n",
       "          74.08086707,   86.81436394,   84.68631978,   87.1105148 ,\n",
       "          74.18337273,   77.63572233,  123.12612501,   71.49472183,\n",
       "          85.7765967 ,  393.07215296,  248.1792039 ,  221.92383326,\n",
       "         247.22000144,   74.04082768,   89.16522317,  325.42082729]),\n",
       " array([  3.24101003e-25,   4.87857128e-33,   5.81749748e-78,\n",
       "          3.66425040e-55,   2.35021277e-73,   5.37300643e-44,\n",
       "          1.03916799e-17,   2.11451332e-24,   4.60542442e-19,\n",
       "          2.64908559e-17,   9.46958559e-20,   1.95304080e-24,\n",
       "          5.49980621e-18,   3.92973851e-21,   4.07879045e-28,\n",
       "          5.23142108e-23,   7.88847320e-21,   1.16775003e-23,\n",
       "          1.28103296e-18,   7.82179130e-23,   9.45259113e-18,\n",
       "          3.64187094e-19,   1.03957213e-19,   1.50660803e-22,\n",
       "          2.11351154e-19,   3.03071688e-23,   2.97523302e-18,\n",
       "          8.35112409e-22,   8.55190146e-19,   1.52808510e-17,\n",
       "          2.43268666e-22,   1.23949029e-20,   3.55551706e-19,\n",
       "          1.16069453e-18,   1.78369675e-17,   5.92901765e-18,\n",
       "          4.64522298e-18,   5.44673535e-17,   1.09774275e-22,\n",
       "          4.43403564e-27,   3.89658164e-27,   3.69305924e-22,\n",
       "          5.78789254e-24,   1.75787617e-19,   1.16073228e-17,\n",
       "          2.16386677e-20,   6.17029410e-20,   1.87039322e-20,\n",
       "          1.10330424e-17,   2.00045870e-18,   4.27004404e-28,\n",
       "          4.17893009e-17,   3.60662526e-20,   1.44113187e-82,\n",
       "          6.76487234e-54,   1.44873702e-48,   1.05741974e-53,\n",
       "          1.18396827e-17,   6.80758327e-21,   2.47062662e-69]))"
      ]
     },
     "execution_count": 11,
     "metadata": {},
     "output_type": "execute_result"
    }
   ],
   "source": [
    "from sklearn.feature_selection import f_regression\n",
    "f_regression(X, Y)"
   ]
  },
  {
   "cell_type": "code",
   "execution_count": null,
   "metadata": {
    "collapsed": true
   },
   "outputs": [],
   "source": [
    "select = np.zeros(60, dtype=bool)\n",
    "select[0] = True\n",
    "X = X[:, select]\n",
    "c = [0.0001, 0.001, 0.01, 0.1, 1, 10, 100, 1000]\n",
    "logreg = LogisticRegressionCV(penalty='l2', solver='sag', Cs=c, refit=True, cv=10, max_iter=1000)\n",
    "logreg.fit(X, Y)\n",
    "print(\"The accuracy rate in training set is \", logreg.score(X, Y))\n",
    "y_scores = logreg.predict(X)\n",
    "y_true = Y\n",
    "print(\"The AUC score is \", roc_auc_score(y_true, y_scores))"
   ]
  },
  {
   "cell_type": "code",
   "execution_count": 3,
   "metadata": {
    "collapsed": false
   },
   "outputs": [
    {
     "name": "stdout",
     "output_type": "stream",
     "text": [
      "The accuracy rate in training set is  0.665932452276\n",
      "The AUC score is  0.601680950386\n"
     ]
    }
   ],
   "source": [
    "test_data = pd.read_csv(\"testing_data.csv\")\n",
    "X = test_data.iloc[:, :-1]\n",
    "Y = test_data.iloc[:, -1]\n",
    "X = preprocessing.scale(X)\n",
    "X = X[:, X_new.get_support()]\n",
    "print(\"The accuracy rate in training set is \", logreg.score(X, Y))\n",
    "y_scores = logreg.predict(X)\n",
    "y_true = Y\n",
    "print(\"The AUC score is \", roc_auc_score(y_true, y_scores))"
   ]
  },
  {
   "cell_type": "code",
   "execution_count": 4,
   "metadata": {
    "collapsed": false
   },
   "outputs": [
    {
     "name": "stdout",
     "output_type": "stream",
     "text": [
      "                0\n",
      "0        LINKT001\n",
      "3        LINKT004\n",
      "10         AADM10\n",
      "11         AADM12\n",
      "12         AADM11\n",
      "13         AADM13\n",
      "44         at103s\n",
      "70          bc02s\n",
      "71          bc03s\n",
      "74          bc12s\n",
      "88          bc36s\n",
      "125         br02s\n",
      "126         br03s\n",
      "143         br36s\n",
      "220         g051s\n",
      "253         g212s\n",
      "256         g215a\n",
      "257         g215b\n",
      "279         g224b\n",
      "280         g224c\n",
      "284         g228s\n",
      "285         g230s\n",
      "298         g250b\n",
      "299         g250c\n",
      "301         g251b\n",
      "302         g251c\n",
      "307         g304s\n",
      "308         g305s\n",
      "313         g310s\n",
      "314         g311s\n",
      "500         re02s\n",
      "501         re03s\n",
      "504         re12s\n",
      "507         re24s\n",
      "511         re29s\n",
      "555         s061s\n",
      "556         s062s\n",
      "559         s068a\n",
      "560         s068b\n",
      "561         s071a\n",
      "562         s071b\n",
      "563         s073a\n",
      "564         s073b\n",
      "826         trv01\n",
      "833         trv08\n",
      "857        rvlr07\n",
      "858        rvlr08\n",
      "859        rvlr09\n",
      "860        rvlr10\n",
      "888      paymnt10\n",
      "902          cv13\n",
      "956      walshrs2\n",
      "1037     bcpmtnum\n",
      "1038      CV_Auto\n",
      "1039        CV_NA\n",
      "1040        CV_BK\n",
      "1043         Vtg3\n",
      "1044       FICO08\n",
      "1045  FICO08_Auto\n",
      "1046       MSCORE\n",
      "[[-0.0286583   0.15347641 -0.09663799 -0.24263634 -0.0379455   0.04735359\n",
      "   0.04143653  0.03416822 -0.06623368  0.03328117  0.10698203 -0.20082088\n",
      "   0.08585073 -0.04747589 -0.00876549  0.04438178 -0.27439377 -0.03875601\n",
      "  -0.23727417 -0.02184791  0.08115403  0.09865906  0.16247878  0.06576666\n",
      "  -0.161911    0.19908591 -0.02638211  0.12553044 -0.01366565 -0.18175674\n",
      "  -0.0457604   0.38682708  0.26372543 -0.16932839 -0.25614908  0.09240873\n",
      "  -0.07280811  0.08725548 -0.18881772  0.13910741 -0.02158455  0.13111463\n",
      "   0.08687296 -0.08828038  0.05748712 -0.14952686  0.08648754  0.02328281\n",
      "  -0.00954917 -0.1518783  -0.0067544  -0.02618333 -0.01998137 -0.44207568\n",
      "   0.15898325 -0.19718659  0.13721037 -0.0411134   0.0039615  -0.42050415]]\n"
     ]
    }
   ],
   "source": [
    "# list all features we use\n",
    "import csv\n",
    "feature_list = test_data.columns.tolist()\n",
    "select_feature = pd.DataFrame(feature_list)\n",
    "print(select_feature.loc[X_new.get_support()])\n",
    "print(logreg.coef_)"
   ]
  },
  {
   "cell_type": "code",
   "execution_count": null,
   "metadata": {
    "collapsed": true
   },
   "outputs": [],
   "source": []
  },
  {
   "cell_type": "code",
   "execution_count": null,
   "metadata": {
    "collapsed": true
   },
   "outputs": [],
   "source": [
    "# we need more data\n",
    "# how to test ks score?\n",
    "# "
   ]
  }
 ],
 "metadata": {
  "kernelspec": {
   "display_name": "Python [Root]",
   "language": "python",
   "name": "Python [Root]"
  },
  "language_info": {
   "codemirror_mode": {
    "name": "ipython",
    "version": 3
   },
   "file_extension": ".py",
   "mimetype": "text/x-python",
   "name": "python",
   "nbconvert_exporter": "python",
   "pygments_lexer": "ipython3",
   "version": "3.5.2"
  }
 },
 "nbformat": 4,
 "nbformat_minor": 0
}
