{
 "cells": [
  {
   "cell_type": "code",
   "execution_count": 1,
   "metadata": {
    "collapsed": true
   },
   "outputs": [],
   "source": [
    "# read clean data with default info\n",
    "import pandas as pd\n",
    "import numpy as np\n",
    "import matplotlib.pyplot as plt\n",
    "from sklearn import linear_model, datasets\n",
    "from sklearn.linear_model import LogisticRegression, LogisticRegressionCV\n",
    "from sklearn import preprocessing\n",
    "from sklearn.metrics import roc_auc_score\n",
    "from scipy import stats"
   ]
  },
  {
   "cell_type": "code",
   "execution_count": 2,
   "metadata": {
    "collapsed": false
   },
   "outputs": [
    {
     "name": "stderr",
     "output_type": "stream",
     "text": [
      "C:\\Anaconda3\\lib\\site-packages\\sklearn\\linear_model\\sag.py:286: ConvergenceWarning: The max_iter was reached which means the coef_ did not converge\n",
      "  \"the coef_ did not converge\", ConvergenceWarning)\n"
     ]
    },
    {
     "name": "stdout",
     "output_type": "stream",
     "text": [
      "The accuracy rate in training set is  0.710418633931\n",
      "The AUC score is  0.647664241558\n"
     ]
    }
   ],
   "source": [
    "# select different feature size and run cross validation\n",
    "from sklearn.feature_selection import SelectKBest\n",
    "from sklearn.feature_selection import f_classif\n",
    "\n",
    "# read data and standardize\n",
    "train_data = pd.read_csv(\"training_data.csv\")\n",
    "X = train_data.iloc[:, :-1]\n",
    "Y = train_data.iloc[:, -1]\n",
    "X = preprocessing.scale(X)\n",
    "# selece feature based on f_classif\n",
    "X_new = SelectKBest(f_classif, k=60)\n",
    "X_new.fit_transform(X, Y)\n",
    "X = X[:, X_new.get_support()]\n",
    "c = [0.0001, 0.001, 0.01, 0.1, 1, 10, 100, 1000]\n",
    "logreg = LogisticRegressionCV(penalty='l2', solver='sag', Cs=c, refit=True, cv=10, max_iter=1000)\n",
    "logreg.fit(X, Y)\n",
    "print(\"The accuracy rate in training set is \", logreg.score(X, Y))\n",
    "y_scores = logreg.predict(X)\n",
    "y_true = Y\n",
    "print(\"The AUC score is \", roc_auc_score(y_true, y_scores))"
   ]
  },
  {
   "cell_type": "code",
   "execution_count": 3,
   "metadata": {
    "collapsed": false
   },
   "outputs": [
    {
     "name": "stdout",
     "output_type": "stream",
     "text": [
      "LINKT001 3.2410100325e-25\n",
      "LINKT004 4.87857127875e-33\n",
      "AADM10 5.81749748148e-78\n",
      "AADM12 3.66425040218e-55\n",
      "AADM11 2.35021276792e-73\n",
      "AADM13 5.37300643142e-44\n",
      "at103s 1.03916798646e-17\n",
      "bc02s 2.11451332036e-24\n",
      "bc03s 4.60542441802e-19\n",
      "bc12s 2.64908558873e-17\n",
      "bc36s 9.46958559061e-20\n",
      "br02s 1.95304079719e-24\n",
      "br03s 5.49980621057e-18\n",
      "br36s 3.92973850935e-21\n",
      "g051s 4.07879044769e-28\n",
      "g212s 5.23142107848e-23\n",
      "g215a 7.88847320398e-21\n",
      "g215b 1.16775003247e-23\n",
      "g224b 1.28103295525e-18\n",
      "g224c 7.82179130486e-23\n",
      "g228s 9.45259113335e-18\n",
      "g230s 3.64187094122e-19\n",
      "g250b 1.03957213188e-19\n",
      "g250c 1.50660803075e-22\n",
      "g251b 2.1135115362e-19\n",
      "g251c 3.03071687954e-23\n",
      "g304s 2.97523302447e-18\n",
      "g305s 8.35112409049e-22\n",
      "g310s 8.55190145795e-19\n",
      "g311s 1.52808510432e-17\n",
      "re02s 2.43268666121e-22\n",
      "re03s 1.2394902867e-20\n",
      "re12s 3.55551706295e-19\n",
      "re24s 1.16069453195e-18\n",
      "re29s 1.78369675011e-17\n",
      "s061s 5.92901765441e-18\n",
      "s062s 4.64522297553e-18\n",
      "s068a 5.44673534674e-17\n",
      "s068b 1.09774274713e-22\n",
      "s071a 4.43403564445e-27\n",
      "s071b 3.89658164028e-27\n",
      "s073a 3.69305924497e-22\n",
      "s073b 5.78789254318e-24\n",
      "trv01 1.75787616785e-19\n",
      "trv08 1.16073227554e-17\n",
      "rvlr07 2.16386676771e-20\n",
      "rvlr08 6.17029410043e-20\n",
      "rvlr09 1.87039322478e-20\n",
      "rvlr10 1.10330423824e-17\n",
      "paymnt10 2.00045869928e-18\n",
      "cv13 4.27004403991e-28\n",
      "walshrs2 4.17893008677e-17\n",
      "bcpmtnum 3.60662526483e-20\n",
      "CV_Auto 1.44113186905e-82\n",
      "CV_NA 6.76487234149e-54\n",
      "CV_BK 1.44873702404e-48\n",
      "Vtg3 1.05741974046e-53\n",
      "FICO08 1.18396826988e-17\n",
      "FICO08_Auto 6.80758326704e-21\n",
      "MSCORE 2.47062661736e-69\n"
     ]
    }
   ],
   "source": [
    "from sklearn.feature_selection import f_regression\n",
    "p_value = f_regression(X, Y)\n",
    "column = train_data.iloc[:, X_new.get_support()].columns\n",
    "for i in range(len(column)):\n",
    "    print(column[i], p_value[1][i])"
   ]
  },
  {
   "cell_type": "code",
   "execution_count": 12,
   "metadata": {
    "collapsed": false
   },
   "outputs": [
    {
     "name": "stderr",
     "output_type": "stream",
     "text": [
      "C:\\Anaconda3\\lib\\site-packages\\sklearn\\linear_model\\sag.py:286: ConvergenceWarning: The max_iter was reached which means the coef_ did not converge\n",
      "  \"the coef_ did not converge\", ConvergenceWarning)\n"
     ]
    },
    {
     "name": "stdout",
     "output_type": "stream",
     "text": [
      "The accuracy rate in training set is  0.674220963173\n",
      "The AUC score is  0.580346419782\n"
     ]
    }
   ],
   "source": [
    "train_data = pd.read_csv(\"training_data.csv\")\n",
    "X = train_data.loc[:, ['at103s', 'bc03s', 'bc36s', 'br03s', 'br36s', 'g051s', 'g215a', 'g215b',\n",
    "                        'g224c', 'g230s', 'g251b', 'g304s', 'g305s', 'g311s', 're03s', 're24s',\n",
    "                        's062s', 's068b', 's071b', 's073b', 'trv01', 'cv13']]\n",
    "Y = train_data.iloc[:, -1]\n",
    "X = preprocessing.scale(X)\n",
    "c = [0.0001, 0.001, 0.01, 0.1, 1, 10, 100, 1000]\n",
    "logreg = LogisticRegressionCV(penalty='l2', solver='sag', Cs=c, refit=True, cv=10, max_iter=1000)\n",
    "logreg.fit(X, Y)\n",
    "print(\"The accuracy rate in training set is \", logreg.score(X, Y))\n",
    "y_scores = logreg.predict(X)\n",
    "y_true = Y\n",
    "print(\"The AUC score is \", roc_auc_score(y_true, y_scores))"
   ]
  },
  {
   "cell_type": "code",
   "execution_count": 3,
   "metadata": {
    "collapsed": false
   },
   "outputs": [
    {
     "name": "stdout",
     "output_type": "stream",
     "text": [
      "The accuracy rate in training set is  0.665932452276\n",
      "The AUC score is  0.601680950386\n"
     ]
    }
   ],
   "source": [
    "test_data = pd.read_csv(\"testing_data.csv\")\n",
    "X = test_data.iloc[:, :-1]\n",
    "Y = test_data.iloc[:, -1]\n",
    "X = preprocessing.scale(X)\n",
    "X = X[:, X_new.get_support()]\n",
    "print(\"The accuracy rate in training set is \", logreg.score(X, Y))\n",
    "y_scores = logreg.predict(X)\n",
    "y_true = Y\n",
    "print(\"The AUC score is \", roc_auc_score(y_true, y_scores))"
   ]
  },
  {
   "cell_type": "code",
   "execution_count": 4,
   "metadata": {
    "collapsed": false
   },
   "outputs": [
    {
     "name": "stdout",
     "output_type": "stream",
     "text": [
      "                0\n",
      "0        LINKT001\n",
      "3        LINKT004\n",
      "10         AADM10\n",
      "11         AADM12\n",
      "12         AADM11\n",
      "13         AADM13\n",
      "44         at103s\n",
      "70          bc02s\n",
      "71          bc03s\n",
      "74          bc12s\n",
      "88          bc36s\n",
      "125         br02s\n",
      "126         br03s\n",
      "143         br36s\n",
      "220         g051s\n",
      "253         g212s\n",
      "256         g215a\n",
      "257         g215b\n",
      "279         g224b\n",
      "280         g224c\n",
      "284         g228s\n",
      "285         g230s\n",
      "298         g250b\n",
      "299         g250c\n",
      "301         g251b\n",
      "302         g251c\n",
      "307         g304s\n",
      "308         g305s\n",
      "313         g310s\n",
      "314         g311s\n",
      "500         re02s\n",
      "501         re03s\n",
      "504         re12s\n",
      "507         re24s\n",
      "511         re29s\n",
      "555         s061s\n",
      "556         s062s\n",
      "559         s068a\n",
      "560         s068b\n",
      "561         s071a\n",
      "562         s071b\n",
      "563         s073a\n",
      "564         s073b\n",
      "826         trv01\n",
      "833         trv08\n",
      "857        rvlr07\n",
      "858        rvlr08\n",
      "859        rvlr09\n",
      "860        rvlr10\n",
      "888      paymnt10\n",
      "902          cv13\n",
      "956      walshrs2\n",
      "1037     bcpmtnum\n",
      "1038      CV_Auto\n",
      "1039        CV_NA\n",
      "1040        CV_BK\n",
      "1043         Vtg3\n",
      "1044       FICO08\n",
      "1045  FICO08_Auto\n",
      "1046       MSCORE\n",
      "[[-0.0286583   0.15347641 -0.09663799 -0.24263634 -0.0379455   0.04735359\n",
      "   0.04143653  0.03416822 -0.06623368  0.03328117  0.10698203 -0.20082088\n",
      "   0.08585073 -0.04747589 -0.00876549  0.04438178 -0.27439377 -0.03875601\n",
      "  -0.23727417 -0.02184791  0.08115403  0.09865906  0.16247878  0.06576666\n",
      "  -0.161911    0.19908591 -0.02638211  0.12553044 -0.01366565 -0.18175674\n",
      "  -0.0457604   0.38682708  0.26372543 -0.16932839 -0.25614908  0.09240873\n",
      "  -0.07280811  0.08725548 -0.18881772  0.13910741 -0.02158455  0.13111463\n",
      "   0.08687296 -0.08828038  0.05748712 -0.14952686  0.08648754  0.02328281\n",
      "  -0.00954917 -0.1518783  -0.0067544  -0.02618333 -0.01998137 -0.44207568\n",
      "   0.15898325 -0.19718659  0.13721037 -0.0411134   0.0039615  -0.42050415]]\n"
     ]
    }
   ],
   "source": [
    "# list all features we use\n",
    "import csv\n",
    "feature_list = test_data.columns.tolist()\n",
    "select_feature = pd.DataFrame(feature_list)\n",
    "print(select_feature.loc[X_new.get_support()])\n",
    "for item in len(X_new.get_support()):\n",
    "    print(select_feature.loc[X_new.get_support()], )"
   ]
  },
  {
   "cell_type": "code",
   "execution_count": null,
   "metadata": {
    "collapsed": true
   },
   "outputs": [],
   "source": []
  },
  {
   "cell_type": "code",
   "execution_count": null,
   "metadata": {
    "collapsed": true
   },
   "outputs": [],
   "source": [
    "# we need more data\n",
    "# how to test ks score?\n",
    "# "
   ]
  }
 ],
 "metadata": {
  "anaconda-cloud": {},
  "kernelspec": {
   "display_name": "Python [Root]",
   "language": "python",
   "name": "Python [Root]"
  },
  "language_info": {
   "codemirror_mode": {
    "name": "ipython",
    "version": 3
   },
   "file_extension": ".py",
   "mimetype": "text/x-python",
   "name": "python",
   "nbconvert_exporter": "python",
   "pygments_lexer": "ipython3",
   "version": "3.5.2"
  }
 },
 "nbformat": 4,
 "nbformat_minor": 0
}
