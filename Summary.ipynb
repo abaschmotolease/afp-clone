{
 "cells": [
  {
   "cell_type": "code",
   "execution_count": 38,
   "metadata": {
    "collapsed": true
   },
   "outputs": [],
   "source": [
    "# read clean data with default info\n",
    "import pandas as pd\n",
    "import numpy as np\n",
    "import matplotlib.pyplot as plt\n",
    "from sklearn import linear_model, datasets\n",
    "from sklearn.linear_model import LogisticRegression, LogisticRegressionCV\n",
    "from sklearn import preprocessing\n",
    "from sklearn.metrics import roc_auc_score\n",
    "from scipy import stats"
   ]
  },
  {
   "cell_type": "code",
   "execution_count": 42,
   "metadata": {
    "collapsed": false
   },
   "outputs": [
    {
     "name": "stderr",
     "output_type": "stream",
     "text": [
      "C:\\Anaconda3\\lib\\site-packages\\sklearn\\linear_model\\sag.py:286: ConvergenceWarning: The max_iter was reached which means the coef_ did not converge\n",
      "  \"the coef_ did not converge\", ConvergenceWarning)\n"
     ]
    },
    {
     "name": "stdout",
     "output_type": "stream",
     "text": [
      "The accuracy rate in training set is  0.710103871577\n",
      "The AUC score is  0.647421050896\n"
     ]
    }
   ],
   "source": [
    "# select different feature size and run cross validation\n",
    "from sklearn.feature_selection import SelectKBest\n",
    "from sklearn.feature_selection import f_classif\n",
    "\n",
    "# read data and standardize\n",
    "train_data = pd.read_csv(\"training_data.csv\")\n",
    "X = train_data.iloc[:, :-1]\n",
    "Y = train_data.iloc[:, -1]\n",
    "X = preprocessing.scale(X)\n",
    "# selece feature based on f_classif\n",
    "X_new = SelectKBest(f_classif, k=60)\n",
    "X_new.fit_transform(X, Y)\n",
    "X = X[:, X_new.get_support()]\n",
    "c = [0.0001, 0.001, 0.01, 0.1, 1, 10, 100, 1000]\n",
    "logreg = LogisticRegressionCV(penalty='l2', solver='sag', Cs=c, refit=True, cv=10, max_iter=1000)\n",
    "logreg.fit(X, Y)\n",
    "print(\"The accuracy rate in training set is \", logreg.score(X, Y))\n",
    "y_scores = logreg.predict(X)\n",
    "y_true = Y\n",
    "print(\"The AUC score is \", roc_auc_score(y_true, y_scores))"
   ]
  },
  {
   "cell_type": "code",
   "execution_count": 43,
   "metadata": {
    "collapsed": false
   },
   "outputs": [
    {
     "name": "stdout",
     "output_type": "stream",
     "text": [
      "The accuracy rate in training set is  0.665932452276\n",
      "The AUC score is  0.601680950386\n"
     ]
    }
   ],
   "source": [
    "test_data = pd.read_csv(\"testing_data.csv\")\n",
    "X = test_data.iloc[:, :-1]\n",
    "Y = test_data.iloc[:, -1]\n",
    "X = preprocessing.scale(X)\n",
    "X = X[:, X_new.get_support()]\n",
    "print(\"The accuracy rate in training set is \", logreg.score(X, Y))\n",
    "y_scores = logreg.predict(X)\n",
    "y_true = Y\n",
    "print(\"The AUC score is \", roc_auc_score(y_true, y_scores))"
   ]
  },
  {
   "cell_type": "code",
   "execution_count": 45,
   "metadata": {
    "collapsed": false
   },
   "outputs": [
    {
     "name": "stdout",
     "output_type": "stream",
     "text": [
      "                0\n",
      "0        LINKT001\n",
      "3        LINKT004\n",
      "10         AADM10\n",
      "11         AADM12\n",
      "12         AADM11\n",
      "13         AADM13\n",
      "44         at103s\n",
      "70          bc02s\n",
      "71          bc03s\n",
      "74          bc12s\n",
      "88          bc36s\n",
      "125         br02s\n",
      "126         br03s\n",
      "143         br36s\n",
      "220         g051s\n",
      "253         g212s\n",
      "256         g215a\n",
      "257         g215b\n",
      "279         g224b\n",
      "280         g224c\n",
      "284         g228s\n",
      "285         g230s\n",
      "298         g250b\n",
      "299         g250c\n",
      "301         g251b\n",
      "302         g251c\n",
      "307         g304s\n",
      "308         g305s\n",
      "313         g310s\n",
      "314         g311s\n",
      "500         re02s\n",
      "501         re03s\n",
      "504         re12s\n",
      "507         re24s\n",
      "511         re29s\n",
      "555         s061s\n",
      "556         s062s\n",
      "559         s068a\n",
      "560         s068b\n",
      "561         s071a\n",
      "562         s071b\n",
      "563         s073a\n",
      "564         s073b\n",
      "826         trv01\n",
      "833         trv08\n",
      "857        rvlr07\n",
      "858        rvlr08\n",
      "859        rvlr09\n",
      "860        rvlr10\n",
      "888      paymnt10\n",
      "902          cv13\n",
      "956      walshrs2\n",
      "1037     bcpmtnum\n",
      "1038      CV_Auto\n",
      "1039        CV_NA\n",
      "1040        CV_BK\n",
      "1043         Vtg3\n",
      "1044       FICO08\n",
      "1045  FICO08_Auto\n",
      "1046       MSCORE\n",
      "[[-0.02865042  0.15347512 -0.09686129 -0.24253541 -0.03774514  0.04727264\n",
      "   0.0414351   0.03415604 -0.06573307  0.03276651  0.1069685  -0.20083233\n",
      "   0.085842   -0.04747499 -0.00880344  0.0443853  -0.27411243 -0.03917312\n",
      "  -0.2365785  -0.02256773  0.08107153  0.0987426   0.16185935  0.06637614\n",
      "  -0.16200757  0.19919988 -0.026412    0.12553244 -0.01365926 -0.18180761\n",
      "  -0.04554639  0.38647704  0.26360869 -0.169308   -0.25582777  0.09241939\n",
      "  -0.0728682   0.08717946 -0.18870747  0.13908017 -0.02156017  0.13094153\n",
      "   0.08718053 -0.08827988  0.05751252 -0.1494417   0.08618991  0.02348168\n",
      "  -0.00957202 -0.15195009 -0.00671383 -0.02619051 -0.01991367 -0.44205689\n",
      "   0.15897155 -0.1971689   0.13723775 -0.04033551  0.00317656 -0.42050664]]\n"
     ]
    }
   ],
   "source": [
    "# list all features we use\n",
    "import csv\n",
    "feature_list = test_data.columns.tolist()\n",
    "select_feature = pd.DataFrame(feature_list)\n",
    "print(select_feature.loc[X_new.get_support()])\n",
    "print(logreg.coef_)"
   ]
  },
  {
   "cell_type": "code",
   "execution_count": null,
   "metadata": {
    "collapsed": true
   },
   "outputs": [],
   "source": [
    "# we need more data\n",
    "# how to test ks score?\n",
    "# "
   ]
  }
 ],
 "metadata": {
  "kernelspec": {
   "display_name": "Python [Root]",
   "language": "python",
   "name": "Python [Root]"
  },
  "language_info": {
   "codemirror_mode": {
    "name": "ipython",
    "version": 3
   },
   "file_extension": ".py",
   "mimetype": "text/x-python",
   "name": "python",
   "nbconvert_exporter": "python",
   "pygments_lexer": "ipython3",
   "version": "3.5.2"
  }
 },
 "nbformat": 4,
 "nbformat_minor": 0
}
