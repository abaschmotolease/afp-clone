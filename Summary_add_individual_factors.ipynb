{
 "cells": [
  {
   "cell_type": "code",
   "execution_count": 1,
   "metadata": {
    "collapsed": true
   },
   "outputs": [],
   "source": [
    "# read clean data with default info\n",
    "import pandas as pd\n",
    "import numpy as np\n",
    "import matplotlib.pyplot as plt\n",
    "from sklearn import linear_model, datasets\n",
    "from sklearn.linear_model import LogisticRegression, LogisticRegressionCV\n",
    "from sklearn import preprocessing\n",
    "from sklearn.metrics import roc_auc_score\n",
    "from scipy import stats"
   ]
  },
  {
   "cell_type": "code",
   "execution_count": 2,
   "metadata": {
    "collapsed": false
   },
   "outputs": [
    {
     "name": "stderr",
     "output_type": "stream",
     "text": [
      "C:\\Anaconda3\\lib\\site-packages\\sklearn\\linear_model\\sag.py:286: ConvergenceWarning: The max_iter was reached which means the coef_ did not converge\n",
      "  \"the coef_ did not converge\", ConvergenceWarning)\n"
     ]
    },
    {
     "name": "stdout",
     "output_type": "stream",
     "text": [
      "The accuracy rate in training set is  0.674220963173\n",
      "The AUC score is  0.580346419782\n"
     ]
    }
   ],
   "source": [
    "train_data = pd.read_csv(\"training_data.csv\")\n",
    "X = train_data.loc[:, ['at103s', 'bc03s', 'bc36s', 'br03s', 'br36s', 'g051s', 'g215a', 'g215b',\n",
    "                        'g224c', 'g230s', 'g251b', 'g304s', 'g305s', 'g311s', 're03s', 're24s',\n",
    "                        's062s', 's068b', 's071b', 's073b', 'trv01', 'cv13']]\n",
    "Y = train_data.iloc[:, -1]\n",
    "X = preprocessing.scale(X)\n",
    "c = [0.0001, 0.001, 0.01, 0.1, 1, 10, 100, 1000]\n",
    "logreg = LogisticRegressionCV(penalty='l2', solver='sag', Cs=c, refit=True, cv=10, max_iter=1000)\n",
    "logreg.fit(X, Y)\n",
    "print(\"The accuracy rate in training set is \", logreg.score(X, Y))\n",
    "y_scores = logreg.predict(X)\n",
    "y_true = Y\n",
    "print(\"The AUC score is \", roc_auc_score(y_true, y_scores))"
   ]
  },
  {
   "cell_type": "code",
   "execution_count": 3,
   "metadata": {
    "collapsed": false
   },
   "outputs": [
    {
     "name": "stderr",
     "output_type": "stream",
     "text": [
      "C:\\Anaconda3\\lib\\site-packages\\sklearn\\linear_model\\sag.py:286: ConvergenceWarning: The max_iter was reached which means the coef_ did not converge\n",
      "  \"the coef_ did not converge\", ConvergenceWarning)\n"
     ]
    },
    {
     "name": "stdout",
     "output_type": "stream",
     "text": [
      "The accuracy rate in training set is  0.690588605603\n",
      "The AUC score is  0.612464942363\n"
     ]
    }
   ],
   "source": [
    "# add MSCORE\n",
    "train_data = pd.read_csv(\"training_data.csv\")\n",
    "X = train_data.loc[:, ['at103s', 'bc03s', 'bc36s', 'br03s', 'br36s', 'g051s', 'g215a', 'g215b',\n",
    "                        'g224c', 'g230s', 'g251b', 'g304s', 'g305s', 'g311s', 're03s', 're24s',\n",
    "                        's062s', 's068b', 's071b', 's073b', 'trv01', 'cv13', 'MSCORE']]\n",
    "Y = train_data.iloc[:, -1]\n",
    "X = preprocessing.scale(X)\n",
    "c = [0.0001, 0.001, 0.01, 0.1, 1, 10, 100, 1000]\n",
    "logreg = LogisticRegressionCV(penalty='l2', solver='sag', Cs=c, refit=True, cv=10, max_iter=1000)\n",
    "logreg.fit(X, Y)\n",
    "print(\"The accuracy rate in training set is \", logreg.score(X, Y))\n",
    "y_scores = logreg.predict(X)\n",
    "y_true = Y\n",
    "print(\"The AUC score is \", roc_auc_score(y_true, y_scores))"
   ]
  },
  {
   "cell_type": "code",
   "execution_count": 6,
   "metadata": {
    "collapsed": false
   },
   "outputs": [
    {
     "name": "stderr",
     "output_type": "stream",
     "text": [
      "C:\\Anaconda3\\lib\\site-packages\\sklearn\\linear_model\\sag.py:286: ConvergenceWarning: The max_iter was reached which means the coef_ did not converge\n",
      "  \"the coef_ did not converge\", ConvergenceWarning)\n"
     ]
    },
    {
     "name": "stdout",
     "output_type": "stream",
     "text": [
      "The accuracy rate in training set is  0.692162417375\n",
      "The AUC score is  0.619360406391\n"
     ]
    }
   ],
   "source": [
    "# add CV_Auto\n",
    "train_data = pd.read_csv(\"training_data.csv\")\n",
    "X = train_data.loc[:, ['at103s', 'bc03s', 'bc36s', 'br03s', 'br36s', 'g051s', 'g215a', 'g215b',\n",
    "                        'g224c', 'g230s', 'g251b', 'g304s', 'g305s', 'g311s', 're03s', 're24s',\n",
    "                        's062s', 's068b', 's071b', 's073b', 'trv01', 'cv13', 'CV_Auto']]\n",
    "Y = train_data.iloc[:, -1]\n",
    "X = preprocessing.scale(X)\n",
    "c = [0.0001, 0.001, 0.01, 0.1, 1, 10, 100, 1000]\n",
    "logreg = LogisticRegressionCV(penalty='l2', solver='sag', Cs=c, refit=True, cv=10, max_iter=1000)\n",
    "logreg.fit(X, Y)\n",
    "print(\"The accuracy rate in training set is \", logreg.score(X, Y))\n",
    "y_scores = logreg.predict(X)\n",
    "y_true = Y\n",
    "print(\"The AUC score is \", roc_auc_score(y_true, y_scores))"
   ]
  },
  {
   "cell_type": "code",
   "execution_count": 7,
   "metadata": {
    "collapsed": false
   },
   "outputs": [
    {
     "name": "stderr",
     "output_type": "stream",
     "text": [
      "C:\\Anaconda3\\lib\\site-packages\\sklearn\\linear_model\\sag.py:286: ConvergenceWarning: The max_iter was reached which means the coef_ did not converge\n",
      "  \"the coef_ did not converge\", ConvergenceWarning)\n"
     ]
    },
    {
     "name": "stdout",
     "output_type": "stream",
     "text": [
      "The accuracy rate in training set is  0.680830972616\n",
      "The AUC score is  0.589104537708\n"
     ]
    }
   ],
   "source": [
    "# add FICO08\n",
    "train_data = pd.read_csv(\"training_data.csv\")\n",
    "X = train_data.loc[:, ['at103s', 'bc03s', 'bc36s', 'br03s', 'br36s', 'g051s', 'g215a', 'g215b',\n",
    "                        'g224c', 'g230s', 'g251b', 'g304s', 'g305s', 'g311s', 're03s', 're24s',\n",
    "                        's062s', 's068b', 's071b', 's073b', 'trv01', 'cv13', 'FICO08']]\n",
    "Y = train_data.iloc[:, -1]\n",
    "X = preprocessing.scale(X)\n",
    "c = [0.0001, 0.001, 0.01, 0.1, 1, 10, 100, 1000]\n",
    "logreg = LogisticRegressionCV(penalty='l2', solver='sag', Cs=c, refit=True, cv=10, max_iter=1000)\n",
    "logreg.fit(X, Y)\n",
    "print(\"The accuracy rate in training set is \", logreg.score(X, Y))\n",
    "y_scores = logreg.predict(X)\n",
    "y_true = Y\n",
    "print(\"The AUC score is \", roc_auc_score(y_true, y_scores))"
   ]
  },
  {
   "cell_type": "code",
   "execution_count": 8,
   "metadata": {
    "collapsed": false
   },
   "outputs": [
    {
     "name": "stderr",
     "output_type": "stream",
     "text": [
      "C:\\Anaconda3\\lib\\site-packages\\sklearn\\linear_model\\sag.py:286: ConvergenceWarning: The max_iter was reached which means the coef_ did not converge\n",
      "  \"the coef_ did not converge\", ConvergenceWarning)\n"
     ]
    },
    {
     "name": "stdout",
     "output_type": "stream",
     "text": [
      "The accuracy rate in training set is  0.697828139754\n",
      "The AUC score is  0.625766234983\n"
     ]
    }
   ],
   "source": [
    "# add AADM10\n",
    "train_data = pd.read_csv(\"training_data.csv\")\n",
    "X = train_data.loc[:, ['at103s', 'bc03s', 'bc36s', 'br03s', 'br36s', 'g051s', 'g215a', 'g215b',\n",
    "                        'g224c', 'g230s', 'g251b', 'g304s', 'g305s', 'g311s', 're03s', 're24s',\n",
    "                        's062s', 's068b', 's071b', 's073b', 'trv01', 'cv13', 'AADM10']]\n",
    "Y = train_data.iloc[:, -1]\n",
    "X = preprocessing.scale(X)\n",
    "c = [0.0001, 0.001, 0.01, 0.1, 1, 10, 100, 1000]\n",
    "logreg = LogisticRegressionCV(penalty='l2', solver='sag', Cs=c, refit=True, cv=10, max_iter=1000)\n",
    "logreg.fit(X, Y)\n",
    "print(\"The accuracy rate in training set is \", logreg.score(X, Y))\n",
    "y_scores = logreg.predict(X)\n",
    "y_true = Y\n",
    "print(\"The AUC score is \", roc_auc_score(y_true, y_scores))"
   ]
  }
 ],
 "metadata": {
  "anaconda-cloud": {},
  "kernelspec": {
   "display_name": "Python [Root]",
   "language": "python",
   "name": "Python [Root]"
  },
  "language_info": {
   "codemirror_mode": {
    "name": "ipython",
    "version": 3
   },
   "file_extension": ".py",
   "mimetype": "text/x-python",
   "name": "python",
   "nbconvert_exporter": "python",
   "pygments_lexer": "ipython3",
   "version": "3.5.2"
  }
 },
 "nbformat": 4,
 "nbformat_minor": 0
}
