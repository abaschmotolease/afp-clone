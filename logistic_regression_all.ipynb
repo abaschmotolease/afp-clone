{
 "cells": [
  {
   "cell_type": "markdown",
   "metadata": {},
   "source": [
    "Using logistic regression on all variables availble:\n",
    "* we delete sevaral column by the following criterias:\n",
    "    * over 10% of data are nan or na\n",
    "    * column with string value\n",
    "    * meaningless column: analyticsmatchkey\n",
    "* then delete the row with nan value in any column\n",
    "* split data into training data and testing data\n",
    "* run logistic regression using all variebles left and training data\n",
    "* then test the result on test data"
   ]
  },
  {
   "cell_type": "markdown",
   "metadata": {},
   "source": [
    "Result:\n",
    "* we can see the accuracy for training data is 72.7% and drop to 66.1% in testing data which is reasonable\n",
    "* we can imporve the result by choosing important features using PCA in the future\n",
    "* if we select the most 50 features by f value, we get \n",
    "        ['LINKT001', 'LINKT004', 'AADM10', 'AADM12', 'AADM11', 'AADM13',\n",
    "       'at103s', 'bc02s', 'bc36s', 'br02s', 'br36s', 'g051s', 'g212s', 'g215a',\n",
    "       'g215b', 'g224b', 'g224c', 'g228s', 'g230s', 'g250b', 'g250c', 'g251b',\n",
    "       'g251c', 'g305s', 'g960s', 're02s', 're03s', 're12s', 're24s', 's062s',\n",
    "       's068b', 's071a', 's071b', 's073a', 's073b', 'trv07', 'trv08', 'trv10',\n",
    "       'rvlr07', 'rvlr08', 'rvlr09', 'paymnt10', 'paymnt11', 'cv13', 'cv14',\n",
    "       'CV_Auto', 'CV_NA', 'CV_BK', 'Vtg3', 'MSCORE']\n",
    "* the accuracy becomes 69.2% after features selection"
   ]
  },
  {
   "cell_type": "code",
   "execution_count": 3,
   "metadata": {
    "collapsed": false
   },
   "outputs": [
    {
     "name": "stderr",
     "output_type": "stream",
     "text": [
      "C:\\Anaconda3\\lib\\site-packages\\IPython\\core\\interactiveshell.py:2723: DtypeWarning: Columns (127,128,129,1212) have mixed types. Specify dtype option on import or set low_memory=False.\n",
      "  interactivity=interactivity, compiler=compiler, result=result)\n"
     ]
    },
    {
     "name": "stdout",
     "output_type": "stream",
     "text": [
      "Total size after cleaning  (4972, 1070)\n",
      "good size =  (3167, 1070)\n",
      "bad size =  (1805, 1070)\n"
     ]
    }
   ],
   "source": [
    "# read clean data\n",
    "import pandas as pd\n",
    "import numpy as np\n",
    "data = pd.read_csv(\"clean_data.csv\")\n",
    "\n",
    "# seperate data into two buckets depends on states of performance\n",
    "good = ['1-30 DPD', 'Current', 'Paid', 'Matured']\n",
    "bad = ['Balance Owed', 'Assigned for Repossession', 'Recovered', '90+ DPD', 'Bankruptcy']\n",
    "for item in good:\n",
    "    data.loc[data.loc[:, 'PERFORMANCE'] == item, 'default'] = 0\n",
    "for item in bad:\n",
    "    data.loc[data.loc[:, 'PERFORMANCE'] == item, 'default'] = 1  \n",
    "data = data.loc[((data.loc[:, 'default'] == 0) | (data.loc[:, 'default'] == 1)), :]\n",
    "# generate output\n",
    "data.to_csv(\"cleaned_data.csv\", index=False)\n",
    "\n",
    "# delete column if over 90% are the same or nan\n",
    "row_num = data.shape[0]\n",
    "for col_name in data.columns.tolist():\n",
    "    non_nan = data.loc[:, col_name].count()\n",
    "    if non_nan < row_num * 0.9:\n",
    "        data = data.drop(col_name, 1)\n",
    "# delete non meaningful column( for example: \"analyticsmatchkey\")\n",
    "data = data.drop('analyticsmatchkey', 1)\n",
    "\n",
    "print(\"Total size after cleaning \", data.shape)\n",
    "print(\"good size = \", data.loc[data.loc[:, 'default'] == 0, :].shape)\n",
    "print(\"bad size = \", data.loc[data.loc[:, 'default'] == 1, :].shape)"
   ]
  },
  {
   "cell_type": "code",
   "execution_count": 4,
   "metadata": {
    "collapsed": false
   },
   "outputs": [],
   "source": [
    "# delete all column with string data type\n",
    "for col_name in data.columns.tolist():\n",
    "    if data.loc[:, col_name].dtype == 'object':\n",
    "        data = data.drop(col_name, 1)\n",
    "# clean all row with nan value\n",
    "data.dropna(inplace=True)"
   ]
  },
  {
   "cell_type": "code",
   "execution_count": 5,
   "metadata": {
    "collapsed": false
   },
   "outputs": [
    {
     "name": "stdout",
     "output_type": "stream",
     "text": [
      "Number of training data =  3174\n",
      "Nuber of testing data =  1361\n"
     ]
    }
   ],
   "source": [
    "# seperate for training data and testing data\n",
    "train_data = data.sample(frac=0.7)\n",
    "train_data.sort_index(inplace=True)\n",
    "test_data = data[~data.index.isin(train_data.index)]\n",
    "print(\"Number of training data = \", len(train_data))\n",
    "print(\"Nuber of testing data = \", len(test_data))"
   ]
  },
  {
   "cell_type": "code",
   "execution_count": 6,
   "metadata": {
    "collapsed": false
   },
   "outputs": [
    {
     "name": "stdout",
     "output_type": "stream",
     "text": [
      "The accuracy rate on training data is  0.77063642092\n",
      "The accurary rate on test data is  0.649522409993\n"
     ]
    }
   ],
   "source": [
    "import matplotlib.pyplot as plt\n",
    "from sklearn import linear_model, datasets\n",
    "logreg = linear_model.LogisticRegression(C=1e5)\n",
    "X = train_data.iloc[:, :-1]\n",
    "Y = train_data.iloc[:, -1]\n",
    "logreg.fit(X, Y)\n",
    "# check the accuracy on the training set\n",
    "print(\"The accuracy rate on training data is \", logreg.score(X, Y))\n",
    "# test on test data\n",
    "print(\"The accurary rate on test data is \", logreg.score(test_data.iloc[:, :-1], test_data.iloc[:, -1]))"
   ]
  },
  {
   "cell_type": "code",
   "execution_count": 7,
   "metadata": {
    "collapsed": false
   },
   "outputs": [
    {
     "data": {
      "text/plain": [
       "array([[  1.16752943e-03,  -1.02174445e-04,   2.60673020e-04, ...,\n",
       "         -1.80872196e-05,   3.71460324e-05,  -4.79075441e-06]])"
      ]
     },
     "execution_count": 7,
     "metadata": {},
     "output_type": "execute_result"
    }
   ],
   "source": [
    "# examine the coefficients\n",
    "logreg.coef_"
   ]
  },
  {
   "cell_type": "code",
   "execution_count": 8,
   "metadata": {
    "collapsed": false
   },
   "outputs": [],
   "source": [
    "# select the most important 20 factors\n",
    "from sklearn.feature_selection import SelectKBest\n",
    "from sklearn.feature_selection import f_classif\n",
    "X_new = SelectKBest(f_classif, k=50)\n",
    "X_new.fit_transform(X, Y)\n",
    "\n",
    "Y = train_data.iloc[:, -1]\n",
    "train_data = train_data.loc[:, X_new.get_support()]"
   ]
  },
  {
   "cell_type": "code",
   "execution_count": 9,
   "metadata": {
    "collapsed": false
   },
   "outputs": [
    {
     "data": {
      "text/plain": [
       "Index(['LINKT001', 'LINKT004', 'AADM10', 'AADM12', 'AADM11', 'AADM13',\n",
       "       'at103s', 'bc02s', 'bc03s', 'bc36s', 'br02s', 'br36s', 'g051s', 'g212s',\n",
       "       'g215a', 'g215b', 'g224c', 'g230s', 'g250c', 'g251c', 'g305s', 'g960s',\n",
       "       're02s', 're03s', 're36s', 's061s', 's068a', 's068b', 's071a', 's071b',\n",
       "       's073a', 's073b', 'trv01', 'trv07', 'trv08', 'trv10', 'rvlr07',\n",
       "       'rvlr08', 'rvlr09', 'paymnt10', 'cv13', 'walshrs2', 'bcpmtnum',\n",
       "       'CV_Auto', 'CV_NA', 'CV_BK', 'Vtg3', 'FICO08', 'FICO08_Auto', 'MSCORE'],\n",
       "      dtype='object')"
      ]
     },
     "execution_count": 9,
     "metadata": {},
     "output_type": "execute_result"
    }
   ],
   "source": [
    "train_data.columns"
   ]
  },
  {
   "cell_type": "code",
   "execution_count": 10,
   "metadata": {
    "collapsed": false
   },
   "outputs": [
    {
     "name": "stdout",
     "output_type": "stream",
     "text": [
      "The accuracy rate on training data is  0.701953371141\n"
     ]
    }
   ],
   "source": [
    "logreg3 = linear_model.LogisticRegression(C=1e5)\n",
    "X = train_data\n",
    "logreg3.fit(X, Y)\n",
    "# check the accuracy on the training set\n",
    "print(\"The accuracy rate on training data is \", logreg3.score(X, Y))"
   ]
  },
  {
   "cell_type": "code",
   "execution_count": null,
   "metadata": {
    "collapsed": true
   },
   "outputs": [],
   "source": []
  }
 ],
 "metadata": {
  "anaconda-cloud": {},
  "kernelspec": {
   "display_name": "Python [Root]",
   "language": "python",
   "name": "Python [Root]"
  },
  "language_info": {
   "codemirror_mode": {
    "name": "ipython",
    "version": 3
   },
   "file_extension": ".py",
   "mimetype": "text/x-python",
   "name": "python",
   "nbconvert_exporter": "python",
   "pygments_lexer": "ipython3",
   "version": "3.5.2"
  }
 },
 "nbformat": 4,
 "nbformat_minor": 0
}
