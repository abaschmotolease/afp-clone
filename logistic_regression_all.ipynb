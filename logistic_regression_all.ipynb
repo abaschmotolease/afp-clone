{
 "cells": [
  {
   "cell_type": "markdown",
   "metadata": {},
   "source": [
    "Using logistic regression on all variables availble:\n",
    "* we delete sevaral column by the following criterias:\n",
    "    * over 10% of data are nan or na\n",
    "    * column with string value\n",
    "    * meaningless column: analyticsmatchkey\n",
    "* then delete the row with nan value in any column\n",
    "* split data into training data and testing data\n",
    "* run logistic regression using all variebles left and training data\n",
    "* then test the result on test data"
   ]
  },
  {
   "cell_type": "markdown",
   "metadata": {},
   "source": [
    "Result:\n",
    "* we can see the accuracy for training data is 72.7% and drop to 66.1% in testing data which is reasonable\n",
    "* we can imporve the result by choosing important features using PCA in the future\n",
    "* if we select the most 50 features by f value, we get \n",
    "        ['LINKT001', 'LINKT004', 'AADM10', 'AADM12', 'AADM11', 'AADM13',\n",
    "       'at103s', 'bc02s', 'bc36s', 'br02s', 'br36s', 'g051s', 'g212s', 'g215a',\n",
    "       'g215b', 'g224b', 'g224c', 'g228s', 'g230s', 'g250b', 'g250c', 'g251b',\n",
    "       'g251c', 'g305s', 'g960s', 're02s', 're03s', 're12s', 're24s', 's062s',\n",
    "       's068b', 's071a', 's071b', 's073a', 's073b', 'trv07', 'trv08', 'trv10',\n",
    "       'rvlr07', 'rvlr08', 'rvlr09', 'paymnt10', 'paymnt11', 'cv13', 'cv14',\n",
    "       'CV_Auto', 'CV_NA', 'CV_BK', 'Vtg3', 'MSCORE']\n",
    "* the accuracy becomes 69.2% after features selection"
   ]
  },
  {
   "cell_type": "code",
   "execution_count": 3,
   "metadata": {
    "collapsed": false
   },
   "outputs": [
    {
     "name": "stdout",
     "output_type": "stream",
     "text": [
      "The accuracy rate on training data is  0.752596789424\n",
      "The accurary rate on test data is  0.643171806167\n"
     ]
    }
   ],
   "source": [
    "import pandas as pd\n",
    "import numpy as np\n",
    "import matplotlib.pyplot as plt\n",
    "from sklearn import linear_model, datasets\n",
    "train_data = pd.read_csv(\"training_data.csv\")\n",
    "test_data = pd.read_csv(\"testing_data.csv\")\n",
    "logreg = linear_model.LogisticRegression(C=1e5)\n",
    "X = train_data.iloc[:, :-1]\n",
    "Y = train_data.iloc[:, -1]\n",
    "logreg.fit(X, Y)\n",
    "# check the accuracy on the training set\n",
    "print(\"The accuracy rate on training data is \", logreg.score(X, Y))\n",
    "# test on test data\n",
    "print(\"The accurary rate on test data is \", logreg.score(test_data.iloc[:, :-1], test_data.iloc[:, -1]))"
   ]
  },
  {
   "cell_type": "code",
   "execution_count": 4,
   "metadata": {
    "collapsed": false
   },
   "outputs": [
    {
     "data": {
      "text/plain": [
       "array([[  1.79574785e-04,   1.65119816e-04,   3.29402265e-05, ...,\n",
       "         -2.28803572e-06,  -4.56523727e-06,   1.72952023e-05]])"
      ]
     },
     "execution_count": 4,
     "metadata": {},
     "output_type": "execute_result"
    }
   ],
   "source": [
    "# examine the coefficients\n",
    "logreg.coef_"
   ]
  },
  {
   "cell_type": "code",
   "execution_count": 5,
   "metadata": {
    "collapsed": false
   },
   "outputs": [],
   "source": [
    "# select the most important 20 factors\n",
    "from sklearn.feature_selection import SelectKBest\n",
    "from sklearn.feature_selection import f_classif\n",
    "X_new = SelectKBest(f_classif, k=50)\n",
    "X_new.fit_transform(X, Y)\n",
    "\n",
    "Y = train_data.iloc[:, -1]\n",
    "train_data = train_data.loc[:, X_new.get_support()]"
   ]
  },
  {
   "cell_type": "code",
   "execution_count": 6,
   "metadata": {
    "collapsed": false
   },
   "outputs": [
    {
     "data": {
      "text/plain": [
       "Index(['LINKT001', 'LINKT004', 'AADM10', 'AADM12', 'AADM11', 'AADM13', 'bc02s',\n",
       "       'bc03s', 'bc36s', 'br02s', 'br03s', 'br36s', 'g051s', 'g212s', 'g215a',\n",
       "       'g215b', 'g224b', 'g224c', 'g230s', 'g250b', 'g250c', 'g251b', 'g251c',\n",
       "       'g304s', 'g305s', 'g310s', 're02s', 're03s', 're12s', 're24s', 's061s',\n",
       "       's062s', 's068b', 's071a', 's071b', 's073a', 's073b', 'trv01', 'rvlr07',\n",
       "       'rvlr08', 'rvlr09', 'paymnt10', 'cv13', 'bcpmtnum', 'CV_Auto', 'CV_NA',\n",
       "       'CV_BK', 'Vtg3', 'FICO08_Auto', 'MSCORE'],\n",
       "      dtype='object')"
      ]
     },
     "execution_count": 6,
     "metadata": {},
     "output_type": "execute_result"
    }
   ],
   "source": [
    "train_data.columns"
   ]
  },
  {
   "cell_type": "code",
   "execution_count": 7,
   "metadata": {
    "collapsed": false
   },
   "outputs": [
    {
     "name": "stdout",
     "output_type": "stream",
     "text": [
      "The accuracy rate on training data is  0.711677683349\n"
     ]
    }
   ],
   "source": [
    "logreg3 = linear_model.LogisticRegression(C=1e5)\n",
    "X = train_data\n",
    "logreg3.fit(X, Y)\n",
    "# check the accuracy on the training set\n",
    "print(\"The accuracy rate on training data is \", logreg3.score(X, Y))"
   ]
  }
 ],
 "metadata": {
  "anaconda-cloud": {},
  "kernelspec": {
   "display_name": "Python [Root]",
   "language": "python",
   "name": "Python [Root]"
  },
  "language_info": {
   "codemirror_mode": {
    "name": "ipython",
    "version": 3
   },
   "file_extension": ".py",
   "mimetype": "text/x-python",
   "name": "python",
   "nbconvert_exporter": "python",
   "pygments_lexer": "ipython3",
   "version": "3.5.2"
  }
 },
 "nbformat": 4,
 "nbformat_minor": 0
}
