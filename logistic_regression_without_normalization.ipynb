{
 "cells": [
  {
   "cell_type": "code",
   "execution_count": 1,
   "metadata": {
    "collapsed": false
   },
   "outputs": [],
   "source": [
    "# read clean data with default info\n",
    "import pandas as pd\n",
    "import numpy as np\n",
    "import matplotlib.pyplot as plt\n",
    "from sklearn import linear_model, datasets\n",
    "from sklearn.linear_model import LogisticRegression, LogisticRegressionCV\n",
    "\n",
    "train_data = pd.read_csv(\"training_data.csv\")\n",
    "test_data = pd.read_csv(\"testing_data.csv\")"
   ]
  },
  {
   "cell_type": "code",
   "execution_count": 4,
   "metadata": {
    "collapsed": false
   },
   "outputs": [
    {
     "name": "stderr",
     "output_type": "stream",
     "text": [
      "C:\\Anaconda3\\lib\\site-packages\\sklearn\\linear_model\\sag.py:286: ConvergenceWarning: The max_iter was reached which means the coef_ did not converge\n",
      "  \"the coef_ did not converge\", ConvergenceWarning)\n"
     ]
    },
    {
     "data": {
      "text/plain": [
       "0.68209002203336477"
      ]
     },
     "execution_count": 4,
     "metadata": {},
     "output_type": "execute_result"
    }
   ],
   "source": [
    "# using cross validation and all features  we have\n",
    "c = [0.0001, 0.01, 1, 100]\n",
    "X = train_data.iloc[:, :-1]\n",
    "Y = train_data.iloc[:, -1]\n",
    "logreg = LogisticRegressionCV(penalty='l2', solver='sag', Cs=c, refit=True, cv=10, max_iter=1000)\n",
    "logreg.fit(X, Y)\n",
    "logreg.score(X, Y)"
   ]
  },
  {
   "cell_type": "code",
   "execution_count": 39,
   "metadata": {
    "collapsed": false
   },
   "outputs": [
    {
     "name": "stderr",
     "output_type": "stream",
     "text": [
      "C:\\Anaconda3\\lib\\site-packages\\sklearn\\linear_model\\sag.py:286: ConvergenceWarning: The max_iter was reached which means the coef_ did not converge\n",
      "  \"the coef_ did not converge\", ConvergenceWarning)\n"
     ]
    },
    {
     "name": "stdout",
     "output_type": "stream",
     "text": [
      "0.692162417375\n",
      "0.696883852691\n",
      "0.698142902109\n",
      "0.710733396286\n",
      "0.694995278565\n",
      "0.669184765502\n",
      "0.685552407932\n"
     ]
    }
   ],
   "source": [
    "# select different feature size and run cross validation\n",
    "from sklearn.feature_selection import SelectKBest\n",
    "from sklearn.feature_selection import f_regression\n",
    "\n",
    "k_list = [10, 20, 40, 80, 160, 320, 640]\n",
    "score_list = []\n",
    "for k_element in k_list:\n",
    "    train_data = pd.read_csv(\"training_data.csv\")\n",
    "    X_new = SelectKBest(f_classif, k=k_element)\n",
    "    X = train_data.iloc[:, :-1]\n",
    "    Y = train_data.iloc[:, -1]\n",
    "\n",
    "    X_new.fit_transform(X, Y)\n",
    "    X = X.loc[:, X_new.get_support()]\n",
    "    c = [0.0001, 0.001, 0.01, 0.1, 1, 10, 100, 1000]\n",
    "    logreg = LogisticRegressionCV(penalty='l2', solver='sag', Cs=c, refit=True, cv=10, max_iter=1000)\n",
    "    logreg.fit(X, Y)\n",
    "    score_list.append(logreg.score(X, Y))\n",
    "    print(score_list[-1])"
   ]
  },
  {
   "cell_type": "code",
   "execution_count": 40,
   "metadata": {
    "collapsed": false
   },
   "outputs": [
    {
     "name": "stderr",
     "output_type": "stream",
     "text": [
      "C:\\Anaconda3\\lib\\site-packages\\sklearn\\linear_model\\sag.py:286: ConvergenceWarning: The max_iter was reached which means the coef_ did not converge\n",
      "  \"the coef_ did not converge\", ConvergenceWarning)\n"
     ]
    },
    {
     "name": "stdout",
     "output_type": "stream",
     "text": [
      "0.706326723324\n",
      "0.706641485678\n",
      "0.713566257476\n",
      "0.710733396286\n",
      "0.708844822159\n",
      "0.712936732767\n",
      "0.714825306893\n",
      "0.695310040919\n"
     ]
    }
   ],
   "source": [
    "# try smaller range of feature size\n",
    "k_list = [50, 60, 70, 80, 90, 100, 110, 120]\n",
    "score_list = []\n",
    "for k_element in k_list:\n",
    "    train_data = pd.read_csv(\"training_data.csv\")\n",
    "    X_new = SelectKBest(f_classif, k=k_element)\n",
    "    X = train_data.iloc[:, :-1]\n",
    "    Y = train_data.iloc[:, -1]\n",
    "\n",
    "    X_new.fit_transform(X, Y)\n",
    "    X = X.loc[:, X_new.get_support()]\n",
    "    c = [0.0001, 0.001, 0.01, 0.1, 1, 10, 100, 1000]\n",
    "    logreg = LogisticRegressionCV(penalty='l2', solver='sag', Cs=c, refit=True, cv=10, max_iter=1000)\n",
    "    logreg.fit(X, Y)\n",
    "    score_list.append(logreg.score(X, Y))\n",
    "    print(score_list[-1])"
   ]
  },
  {
   "cell_type": "code",
   "execution_count": 3,
   "metadata": {
    "collapsed": false
   },
   "outputs": [
    {
     "data": {
      "text/plain": [
       "(3177, 1050)"
      ]
     },
     "execution_count": 3,
     "metadata": {},
     "output_type": "execute_result"
    }
   ],
   "source": [
    "# in order to run the \n",
    "# run PCA to reduce dimension\n",
    "# keep variance to 0.99\n",
    "from sklearn.decomposition import PCA\n",
    "\n",
    "train_data = pd.read_csv(\"training_data.csv\")\n",
    "X = train_data.iloc[:, :-1]\n",
    "Y = train_data.iloc[:, -1]\n",
    "pca = PCA(n_components=0.99, svd_solver='full')\n",
    "pca.fit(X)"
   ]
  },
  {
   "cell_type": "code",
   "execution_count": 5,
   "metadata": {
    "collapsed": false
   },
   "outputs": [
    {
     "name": "stderr",
     "output_type": "stream",
     "text": [
      "C:\\Anaconda3\\lib\\site-packages\\sklearn\\linear_model\\sag.py:286: ConvergenceWarning: The max_iter was reached which means the coef_ did not converge\n",
      "  \"the coef_ did not converge\", ConvergenceWarning)\n"
     ]
    },
    {
     "data": {
      "text/plain": [
       "0.59678942398489143"
      ]
     },
     "execution_count": 5,
     "metadata": {},
     "output_type": "execute_result"
    }
   ],
   "source": [
    "X = pca.transform(X)\n",
    "c = [0.0001, 0.001, 0.01, 0.1, 1, 10, 100, 1000]\n",
    "logreg = LogisticRegressionCV(penalty='l2', solver='sag', Cs=c, refit=True, cv=10, max_iter=1000)\n",
    "logreg.fit(X, Y)\n",
    "logreg.score(X, Y)"
   ]
  },
  {
   "cell_type": "code",
   "execution_count": null,
   "metadata": {
    "collapsed": true
   },
   "outputs": [],
   "source": []
  }
 ],
 "metadata": {
  "anaconda-cloud": {},
  "kernelspec": {
   "display_name": "Python [Root]",
   "language": "python",
   "name": "Python [Root]"
  },
  "language_info": {
   "codemirror_mode": {
    "name": "ipython",
    "version": 3
   },
   "file_extension": ".py",
   "mimetype": "text/x-python",
   "name": "python",
   "nbconvert_exporter": "python",
   "pygments_lexer": "ipython3",
   "version": "3.5.2"
  }
 },
 "nbformat": 4,
 "nbformat_minor": 0
}
