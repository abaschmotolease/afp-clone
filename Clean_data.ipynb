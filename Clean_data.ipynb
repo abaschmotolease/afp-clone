{
 "cells": [
  {
   "cell_type": "code",
   "execution_count": 1,
   "metadata": {
    "collapsed": false
   },
   "outputs": [
    {
     "name": "stderr",
     "output_type": "stream",
     "text": [
      "C:\\Anaconda3\\lib\\site-packages\\IPython\\core\\interactiveshell.py:2723: DtypeWarning: Columns (127,128,129,1022,1023,1212,1214) have mixed types. Specify dtype option on import or set low_memory=False.\n",
      "  interactivity=interactivity, compiler=compiler, result=result)\n"
     ]
    }
   ],
   "source": [
    "# cleaning data\n",
    "# The file included declines, walkaways, and booked accounts\n",
    "# keep: Flags = funded or repayment\n",
    "import pandas as pd\n",
    "data = pd.read_csv(\".\\data\\PRM.EDTOUT.DGMMOTOL.CUSTCVL2  Credit Auto.csv\")\n",
    "data = data.loc[(data.loc[:, 'FLAGS'] == 'funded') | (data.loc[:, 'FLAGS'] == 'repayment'), :]\n",
    "data.to_csv(\"clean_data.csv\", index=False)"
   ]
  },
  {
   "cell_type": "code",
   "execution_count": null,
   "metadata": {
    "collapsed": true
   },
   "outputs": [],
   "source": []
  }
 ],
 "metadata": {
  "anaconda-cloud": {},
  "kernelspec": {
   "display_name": "Python [Root]",
   "language": "python",
   "name": "Python [Root]"
  },
  "language_info": {
   "codemirror_mode": {
    "name": "ipython",
    "version": 3
   },
   "file_extension": ".py",
   "mimetype": "text/x-python",
   "name": "python",
   "nbconvert_exporter": "python",
   "pygments_lexer": "ipython3",
   "version": "3.5.2"
  }
 },
 "nbformat": 4,
 "nbformat_minor": 0
}
