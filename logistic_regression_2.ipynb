{
 "cells": [
  {
   "cell_type": "code",
   "execution_count": 5,
   "metadata": {
    "collapsed": false
   },
   "outputs": [
    {
     "name": "stderr",
     "output_type": "stream",
     "text": [
      "C:\\Anaconda3\\lib\\site-packages\\IPython\\core\\interactiveshell.py:2723: DtypeWarning: Columns (127,128,129,1212) have mixed types. Specify dtype option on import or set low_memory=False.\n",
      "  interactivity=interactivity, compiler=compiler, result=result)\n"
     ]
    }
   ],
   "source": [
    "# read clean data with default info\n",
    "import pandas as pd\n",
    "import numpy as np\n",
    "\n",
    "data = pd.read_csv(\"cleaned_data.csv\")"
   ]
  },
  {
   "cell_type": "code",
   "execution_count": 6,
   "metadata": {
    "collapsed": false
   },
   "outputs": [
    {
     "name": "stdout",
     "output_type": "stream",
     "text": [
      "Total size after cleaning  (4972, 1070)\n",
      "good size =  (3167, 1070)\n",
      "bad size =  (1805, 1070)\n",
      "Number of training data =  3174\n",
      "Nuber of testing data =  1361\n"
     ]
    }
   ],
   "source": [
    "# delete column if over 90% are the same or nan\n",
    "row_num = data.shape[0]\n",
    "for col_name in data.columns.tolist():\n",
    "    non_nan = data.loc[:, col_name].count()\n",
    "    if non_nan < row_num * 0.9:\n",
    "        data = data.drop(col_name, 1)\n",
    "# delete non meaningful column( for example: \"analyticsmatchkey\")\n",
    "data = data.drop('analyticsmatchkey', 1)\n",
    "\n",
    "print(\"Total size after cleaning \", data.shape)\n",
    "print(\"good size = \", data.loc[data.loc[:, 'default'] == 0, :].shape)\n",
    "print(\"bad size = \", data.loc[data.loc[:, 'default'] == 1, :].shape)\n",
    "\n",
    "# delete all column with string data type\n",
    "for col_name in data.columns.tolist():\n",
    "    if data.loc[:, col_name].dtype == 'object':\n",
    "        data = data.drop(col_name, 1)\n",
    "# clean all row with nan value\n",
    "data.dropna(inplace=True)\n",
    "# seperate for training data and testing data\n",
    "train_data = data.sample(frac=0.7)\n",
    "train_data.sort_index(inplace=True)\n",
    "test_data = data[~data.index.isin(train_data.index)]\n",
    "print(\"Number of training data = \", len(train_data))\n",
    "print(\"Nuber of testing data = \", len(test_data))"
   ]
  },
  {
   "cell_type": "code",
   "execution_count": 8,
   "metadata": {
    "collapsed": false
   },
   "outputs": [],
   "source": [
    "# try different C in logistic regression to find the best coefficient\n",
    "import matplotlib.pyplot as plt\n",
    "from sklearn import linear_model, datasets\n",
    "c = [0.0001, 0.001, 0.01, 0.1, 1, 10, 20, 50, 100, 200, 500, 1000]\n",
    "score_set = np.zeros((2, len(c)))\n",
    "X = train_data.iloc[:, :-1]\n",
    "Y = train_data.iloc[:, -1]\n",
    "\n",
    "i = 0\n",
    "for element in c:\n",
    "    logreg = linear_model.LogisticRegression(C=element, penalty='l2')\n",
    "    logreg.fit(X, Y)\n",
    "    score_set[0, i] = logreg.score(X, Y)\n",
    "    score_set[1, i] = logreg.score(test_data.iloc[:, :-1], test_data.iloc[:, -1])\n",
    "    i = i + 1"
   ]
  },
  {
   "cell_type": "code",
   "execution_count": 9,
   "metadata": {
    "collapsed": false
   },
   "outputs": [
    {
     "name": "stdout",
     "output_type": "stream",
     "text": [
      "[[ 0.74669187  0.74984247  0.73251418  0.71865154  0.71266541  0.71770636\n",
      "   0.74480151  0.7331443   0.73093888  0.74637681  0.71077505  0.74007561]\n",
      " [ 0.66274798  0.66274798  0.66054372  0.65613519  0.66201323  0.65613519\n",
      "   0.65980896  0.6576047   0.6576047   0.66495224  0.66495224  0.66127847]]\n"
     ]
    },
    {
     "data": {
      "image/png": "[encoded data removed]",
      "text/plain": [
       "<matplotlib.figure.Figure at 0x93d9668>"
      ]
     },
     "metadata": {},
     "output_type": "display_data"
    }
   ],
   "source": [
    "%matplotlib inline\n",
    "print(score_set)\n",
    "plt.plot(c, score_set[0, :], label='training')\n",
    "plt.plot(c, score_set[1, :], label='testing')\n",
    "plt.legend(bbox_to_anchor=(1.05, 1), loc=2, borderaxespad=0.)\n",
    "plt.show()"
   ]
  },
  {
   "cell_type": "code",
   "execution_count": null,
   "metadata": {
    "collapsed": true
   },
   "outputs": [],
   "source": []
  }
 ],
 "metadata": {
  "anaconda-cloud": {},
  "kernelspec": {
   "display_name": "Python [Root]",
   "language": "python",
   "name": "Python [Root]"
  },
  "language_info": {
   "codemirror_mode": {
    "name": "ipython",
    "version": 3
   },
   "file_extension": ".py",
   "mimetype": "text/x-python",
   "name": "python",
   "nbconvert_exporter": "python",
   "pygments_lexer": "ipython3",
   "version": "3.5.2"
  }
 },
 "nbformat": 4,
 "nbformat_minor": 0
}
