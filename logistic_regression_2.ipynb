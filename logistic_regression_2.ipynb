{
 "cells": [
  {
   "cell_type": "code",
   "execution_count": 1,
   "metadata": {
    "collapsed": false
   },
   "outputs": [],
   "source": [
    "# read clean data with default info\n",
    "import pandas as pd\n",
    "import numpy as np\n",
    "train_data = pd.read_csv(\"training_data.csv\")\n",
    "test_data = pd.read_csv(\"testing_data.csv\")"
   ]
  },
  {
   "cell_type": "code",
   "execution_count": 2,
   "metadata": {
    "collapsed": false
   },
   "outputs": [],
   "source": [
    "# try different C in logistic regression to find the best coefficient\n",
    "import matplotlib.pyplot as plt\n",
    "from sklearn import linear_model, datasets\n",
    "c = [0.0001, 0.001, 0.01, 0.1, 1, 10, 20, 50, 100, 200, 500, 1000]\n",
    "score_set = np.zeros((2, len(c)))\n",
    "X = train_data.iloc[:, :-1]\n",
    "Y = train_data.iloc[:, -1]\n",
    "i = 0\n",
    "for element in c:\n",
    "    logreg = linear_model.LogisticRegression(C=element, penalty='l2')\n",
    "    logreg.fit(X, Y)\n",
    "    score_set[0, i] = logreg.score(X, Y)\n",
    "    score_set[1, i] = logreg.score(test_data.iloc[:, :-1], test_data.iloc[:, -1])\n",
    "    i = i + 1"
   ]
  },
  {
   "cell_type": "code",
   "execution_count": 3,
   "metadata": {
    "collapsed": false
   },
   "outputs": [
    {
     "name": "stdout",
     "output_type": "stream",
     "text": [
      "[[ 0.72017627  0.7198615   0.72773056  0.71954674  0.72804533  0.72584199\n",
      "   0.72647151  0.7198615   0.72584199  0.72710104  0.73717343  0.71702864]\n",
      " [ 0.63509545  0.63729809  0.63362702  0.63876652  0.63509545  0.6328928\n",
      "   0.63582966  0.63950073  0.63876652  0.63582966  0.63509545  0.63509545]]\n"
     ]
    },
    {
     "data": {
      "image/png": "[encoded data removed]",
      "text/plain": [
       "<matplotlib.figure.Figure at 0xd33ddd8>"
      ]
     },
     "metadata": {},
     "output_type": "display_data"
    }
   ],
   "source": [
    "%matplotlib inline\n",
    "print(score_set)\n",
    "plt.plot(c, score_set[0, :], label='training')\n",
    "plt.plot(c, score_set[1, :], label='testing')\n",
    "plt.legend(bbox_to_anchor=(1.05, 1), loc=2, borderaxespad=0.)\n",
    "plt.show()"
   ]
  }
 ],
 "metadata": {
  "anaconda-cloud": {},
  "kernelspec": {
   "display_name": "Python [Root]",
   "language": "python",
   "name": "Python [Root]"
  },
  "language_info": {
   "codemirror_mode": {
    "name": "ipython",
    "version": 3
   },
   "file_extension": ".py",
   "mimetype": "text/x-python",
   "name": "python",
   "nbconvert_exporter": "python",
   "pygments_lexer": "ipython3",
   "version": "3.5.2"
  }
 },
 "nbformat": 4,
 "nbformat_minor": 0
}
